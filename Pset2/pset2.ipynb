{
 "cells": [
  {
   "cell_type": "markdown",
   "metadata": {},
   "source": [
    "# Problem set 2, by M. Kaledin\n",
    "\n",
    "# Problem 1 (LU decomposition)\n",
    "## 30 pts"
   ]
  },
  {
   "cell_type": "markdown",
   "metadata": {},
   "source": [
    "### 1. LU for band matrices (5 pts)\n",
    "\n",
    "The complexity to find an LU decomposition of a dense $n\\times n$ matrix is $\\mathcal{O}(n^3)$.\n",
    "Significant reduction in complexity can be achieved if the matrix has a certain structure, e.g. it is sparse. \n",
    "In the following task we consider an important example of $LU$ for a special type of sparse matrices –– tridiagonal matrices.\n",
    "\n",
    "- Find the number of operations to compute an $LU$ decomposition of a tridiagonal matrix taking into account only non-zero elements. How many nonzero elements are in factors $L$, $U$ and where are they located? Conclude what is the complexity to solve a linear system with tridiagonal matrix in terms of $n$. \n",
    "\n",
    "#### Solution\n",
    "\n",
    "I will use the similar approach as for usual LU-decomposition. Suppose that matrix A has entries (near the diagonal) $d_k,b_k,c_k,~k=1,..,n$, $d_1=c_n=0$ do not appear, and LU-decomposition exists. Let $l_{ii}=1$ for all $i=1,..,n$ for normaliztion. Start with $b_{11}=l_{11}u_{11}=u_{11}$, so $u_{11}=b_1$. Then we go down and write $l_{i1}u_11=a_{i1}$, however $a_{i1}=0$ for $i>2$ and $a_{21}=d_2$. Thus $l_{21}=d_2/u_{11}$ and $l_{i1}=0$ for $i>2$. Now go right and write down $l_{11}u_1i=a_{1i}$, so $u_{12}=c_1$ and $u_{1i}=0$ for $i>2$.\n",
    "\n",
    "Now use the induction method, suppose for $k-1<n-1$ the following holds (these statements can be easily checked for $k-1=2$, so we have obtained the induction base): \n",
    "\n",
    "1. $u_{k-1,k-1}=b_{k-1}-u_{k-2,k-1}l_{k-2,k-1}$,   \n",
    "2. $l_{k,k-1}=d_{k-1}/u_{k-1,k-1}$ and $l_{t,k-1}=0$ for $t>k$.\n",
    "3. $u_{k-1,k}=c_k$ and $u_{k-1,t}=0$ for $t>k$.\n",
    "\n",
    "Consider case $k$, so we have already obtained all $u_{ij}$ for $i<k,j\\geq k$\n",
    " and $l_{ij}$ for $i\\geq k,j<k$. Directly we can derive that\n",
    " \n",
    " $$a_{kk}=b_k=u_{k-1,k}l_{k,k-1}+u_{kk}l_{kk},$$\n",
    " \n",
    " hence $u_{kk}=b_k-u_{k-1,k}l_{k,k-1}$. Go down and write $a_{k+1,k}=d_{k+1}$ and zero otherwise. So\n",
    "\n",
    " $$\n",
    "     d_{k+1}=l_{k+1,k}u_{k,k} \\Rightarrow l_{k+1,k}=\\frac{d_{k+1}}{u_{k,k}}.\n",
    " $$\n",
    " One can note that $l_{i,k}=0$ for $i>k+1$ due to $u_{k,k}\\neq 0$ and $a_{ik}=0$ for $i>k+1$. Finally,\n",
    " \n",
    " $$\n",
    "     c_k=l_{k-1,k-1}u_{k,k+1}=u_{k,k+1},\n",
    " $$\n",
    " moreover, $u_{k,i}=0$ for $i>k+1$ because $a_{k,i}=0$ for $i>k+1$. By induction the proposed formulas hold for any $k<n$. For case $k=n$  $b_n=l_{n,n-1}u_{n-1,n}+u_{nn}l_{nn}$ implies $u_{nn}=b_n - l_{n,n-1}u_{n-1,n}$. This is the last needed coefficient.\n",
    " \n",
    " With such procedure we have done $1+n-2$ divisions, $n-1$ multiplications and $n-1$ additions, the result complexity is $3(n-1)$ operations which is $O(n)$.\n",
    " \n",
    "### 2. Completing the proof of existence of LU (10 pts)\n",
    "\n",
    "Some details in lecture proofs about $LU$ were omitted. Let us complete them.\n",
    "- Prove that if $LU$ decomposition exists, then matrix is strictly regular.\n",
    "\n",
    "Assume $l_ii=1$ (w.l.o.g.). Suppose the matrix is not strictly regular, then $\\exists k$ such that the $k$-th principal minor $\\text{det}(A_k)=0$. This minor can be expanded using LU $A_k = L_kU_k$ where $L_k,U_k$ are $L,U$ with first $k$ rows. By the property of determinant $\\text{det}(A_k)=\\text{det}(L_k)\\text{det}(U_k)=\\text{det}(U_k)=u_11\\cdot...\\cdot u_kk$. Since $\\text{det}(A_k)=0$ then there exists $u_{tt}=0$ for some $t \\leq k$. We can write $a_{tt}=\\sum_{x=1}^{t-1}l_{tx}u_{xt}+u_tt=\\sum_{x=1}^{t-1}l_{tx}u_{xt}$ and $a_{\\xi,t}=\\sum_{x=1}^{t-1}l_{\\xi,x}u_{x,t}+l_{\\xi t}u_{tt}=\\sum_{x=1}^{t-1}l_{\\xi,x}u_{x,t}$.  \n",
    "\n",
    "- Prove that if $A$ is strictly regular, then $A_1 = D - \\frac 1a b c^T$ (see lectures for notations) is also strictly regular.\n",
    "\n",
    "### 3. Stability of LU (10 pts)\n",
    "\n",
    "Let\n",
    "$A = \\begin{pmatrix}\n",
    "a & 1 & 0\\\\\n",
    "1 & 1 & 1 \\\\\n",
    "0 & 1 & 1\n",
    "\\end{pmatrix}.$ \n",
    "* Find analytically an $LU$ decomposition of the matrix $A$.\n",
    "\n",
    "Subtract 1 from 2 (considering $a\\neq 0$):\n",
    "\n",
    "$\n",
    "\\begin{pmatrix}\n",
    "a & 1 & 0\\\\\n",
    "0 & 1-1/a & 1 \\\\\n",
    "0 & 1 & 1\n",
    "\\end{pmatrix},\n",
    "$\n",
    "\n",
    "corresponding elementary matrix is \n",
    "\n",
    "$E_1=\\begin{pmatrix}\n",
    "1 & 0 & 0\\\\\n",
    "-1/a & 1 & 0 \\\\\n",
    "0 & 0 & 1\n",
    "\\end{pmatrix}.$\n",
    "\n",
    "Substract 2 from 3 (considering $1-1/a\\neq 0$):\n",
    "\n",
    "$\n",
    "\\begin{pmatrix}\n",
    "a & 1 & 0\\\\\n",
    "0 & 1-1/a & 1 \\\\\n",
    "0 & 0 & 1/(1-a)\n",
    "\\end{pmatrix}=U,\n",
    "$\n",
    "\n",
    "corresponding elementary matrix is \n",
    "\n",
    "$E_2=\\begin{pmatrix}\n",
    "1 & 0 & 0\\\\\n",
    "0 & 1 & 0 \\\\\n",
    "0 & -1/(1-1/a) & 1\n",
    "\\end{pmatrix}.$\n",
    "\n",
    "So $A= (E_2E_1)^{-1}U=E_1^{-1}E_2^{-1}U$. Matrix $L=E_1^{-1}E_2^{-1}$ can be easily computed because $E_1^{-1},E_2^{-1}$ are elemtary matrices corresponding to subtract1From2 and subtract2From3. Thus\n",
    "$$\n",
    "L=E_1^{-1}E_2^{-1}=\\begin{pmatrix}\n",
    "1 & 0 & 0\\\\\n",
    "1/a & 1 & 0 \\\\\n",
    "0 & 0 & 1\n",
    "\\end{pmatrix}\\begin{pmatrix}\n",
    "1 & 0 & 0\\\\\n",
    "0 & 1 & 0 \\\\\n",
    "0 & 1/(1-1/a) & 1\n",
    "\\end{pmatrix}=\\begin{pmatrix}\n",
    "1 & 0 & 0\\\\\n",
    "1/a & 1 & 0 \\\\\n",
    "0 & 1/(1-1/a) & 1\n",
    "\\end{pmatrix}\n",
    "$$\n",
    "\n",
    "* For what values of $a$ does the LU decomposition of $A$ exist?\n",
    "\n",
    "To ensure that LU decomposition exists we need to show that $A$ is strictly regular. So all principal minors\n",
    "\n",
    "1. $a\\neq 0$,\n",
    "2. $a-1 \\neq 0$,\n",
    "3. $det(A)=-1 \\neq 0$ already.\n",
    "\n",
    "Hence for $a \\neq 0, 1$ such decomposition exists.\n",
    "\n",
    "* Explain, why can the LU decomposition fail to approximate factors $L$ and $U$ for $|a|\\ll 1$ in computer arithmetic?\n",
    "How can this problem be solved?\n",
    "\n",
    "In LU-decomposition we need to compute $l_{21}=a_{21}/u_{11}=a_{21}/a_{11}=1/a$. When $a=10^{-k}$ is small we multiply by very large number what could lead to a loss of significance. \n",
    "\n",
    "$$\n",
    "u_{22}=a_{22}-l_{21}u_{12}=a_{22}-l_{21}a_{21}/a_{11}=1-(1/a)/ a\n",
    "a_{22}=1=l_{21}u_{12}+u_{22}=1/a*\\left( (1/a)/a \\right)+ (1-(1/a)/ a) \\approx 10^{3k}-10^{2k} >> 1.\n",
    "$$\n",
    "\n",
    "One possible solution is row (column, or both) pivoting. On each iteration of algorithm (computing k-th column and k-th row of decomposition) we permute rows and columns matrix in such a way that the maximal (in absolute value) element goes on place of $a_{kk}$. Instead of usual LU decomposition we search for\n",
    "\n",
    "$$A=PLUP', $$\n",
    "\n",
    "where $P,P'$ are permutation matrices. This approach is numerically more stable than usual LU.\n",
    "\n",
    "### 4. Block LU (5 pts)\n",
    "\n",
    "Let $A = \\begin{bmatrix} A_{11} & A_{12} \\\\ A_{21} & A_{22} \\end{bmatrix}$ be a block matrix. The goal is to solve the linear system\n",
    "$$\n",
    "     \\begin{bmatrix} A_{11} & A_{12} \\\\ A_{21} & A_{22} \\end{bmatrix} \\begin{bmatrix} u_1 \\\\ u_2 \\end{bmatrix} = \\begin{bmatrix} f_1 \\\\ f_2 \\end{bmatrix}.\n",
    "$$\n",
    "\n",
    "* Using block elimination find matrix $S$ and right-hand side $f_2$ so that $u_2$ can be found from $S u_2 = f_2$. Note that the matrix $S$ is called <font color='red'> Schur complement </font> of the block $A_{11}$."
   ]
  },
  {
   "cell_type": "code",
   "execution_count": null,
   "metadata": {
    "collapsed": true
   },
   "outputs": [],
   "source": []
  },
  {
   "cell_type": "markdown",
   "metadata": {},
   "source": [
    "# Problem 2 (QR decomposition) \n",
    "\n",
    "## 20 pts\n",
    "\n",
    "### 1. Standard Gram-Schmidt algorithm (10 pts)\n",
    "Our goal now is to orthogonalize a system of linearly independent vectors $v_1,\\dots,v_n$.\n",
    "The standard algorithm for the task is the Gram-Schmidt algorithm:\n",
    "\n",
    "$$\n",
    "\\begin{split}\n",
    "u_1 &= v_1, \\\\\n",
    "u_2 &= v_2 - \\frac{(v_2, u_1)}{(u_1, u_1)} u_1, \\\\\n",
    "\\dots \\\\\n",
    "u_n &= v_n - \\frac{(v_n, u_1)}{(u_1, u_1)} u_1 - \\frac{(v_n, u_2)}{(u_2, u_2)} u_2 - \\dots - \\frac{(v_n, u_{n-1})}{(u_{n-1}, u_{n-1})} u_{n-1}.\n",
    "\\end{split}\n",
    "$$\n",
    "\n",
    "Now $u_1, \\dots, u_n$ are orthogonal vectors in exact arithmetics. Then to get orthonormal system you should divide each of the vectors by its norm: $u_i := u_i/\\|u_i\\|$.\n",
    "The Gram-Schidt process can be viewed as a QR decomposition. Let us show that."
   ]
  },
  {
   "cell_type": "markdown",
   "metadata": {},
   "source": [
    "* Write out what is $Q$ and $R$ obtained in the process described. \n",
    "\n",
    "### Solution\n",
    "\n",
    "Let $v_i$ be $n$-dimensional linearily independent vectors. The above expressions could be rewritten:\n",
    "\n",
    "$$\\begin{split}\n",
    "&v_1=u_1,\\\\\n",
    "&v_2=u_2+\\frac{(v_2, u_1)}{(u_1, u_1)} u_1,\\\\\n",
    "&v_3=u_3+\\frac{(v_3, u_1)}{(u_1, u_1)} u_1+\\frac{(v_3, u_2)}{(u_2, u_2)} u_2,\\\\\n",
    "...\n",
    "\\end{split}\n",
    "$$\n",
    "This can be rewritten as the matrix equation:\n",
    "$$\n",
    "\\begin{pmatrix}\n",
    "v_1 & v_2 & ... & v_m\n",
    "\\end{pmatrix}=\\begin{pmatrix}\n",
    "u_1 & u_2 & ... & u_m\n",
    "\\end{pmatrix}R=QR,\n",
    "$$\n",
    "where \n",
    "$$\n",
    "R_{ij}=\\begin{cases}\n",
    "0, \\text{if $i>j$},\\\\\n",
    "1, \\text{if $i=j$},\\\\\n",
    "(a_j,u_i), \\text{if $i<j$}.\n",
    "\\end{cases}\n",
    "$$\n",
    "\n",
    "To get exact $QR$ we need to normalize all $u_i$ and set $R_{ii}=\\Vert u_i\\Vert$.\n",
    "\n",
    "* Implement the described Gram-Schmidt algorithm as a function ```gram_schmidt(A)```, which outputs ```Q,R``` and check it on a random $100\\times 100$ matrix $B.$ Print out the error. \n",
    "\n",
    "**Note:** To check orthogonality calculate the matrix of scalar products $G_{ij} = (u_i, u_j)$ (called <font color='red'> Gram matrix </font> of set of vectors $u_1,\\dots, u_n$) which should be equal to the identity matrix $I.$ Error $\\|G - I\\|_2$ will show you how far is the system $u_i$ from orthonormal.\n",
    "\n",
    "\n",
    "* Create a Hilbert matrix $A$ of size $100\\times 100$ without using loops.\n",
    "Othogonalize its columns by the described Gram-Schmidt algorithm. Is the Gram matrix close to the identity matrix in this case? Why?\n",
    "\n",
    "\n",
    "The observed loss of orthogonality is a problem of this particular algorithm. To avoid it [modified Gram-Schmidt algorithm](https://en.wikipedia.org/wiki/Gram%E2%80%93Schmidt_process#Numerical_stability), QR via Householder reflections or Givens rotations can be used."
   ]
  },
  {
   "cell_type": "code",
   "execution_count": 1,
   "metadata": {
    "collapsed": true
   },
   "outputs": [],
   "source": [
    "import numpy as np"
   ]
  },
  {
   "cell_type": "code",
   "execution_count": 2,
   "metadata": {
    "collapsed": true
   },
   "outputs": [],
   "source": [
    "# INPUT : rectangular matrix A  n x m\n",
    "# OUTPUT: matrices Q - orthogonal and R - upper triangular such that A=QR\n",
    "\n",
    "def gram_schmidt(A): # 5 pts\n",
    "    #considering m >= n\n",
    "    \n",
    "    Q=np.zeros(A.shape)\n",
    "    R=np.eye(A.shape[1])\n",
    "    Q[:,0]=A[:,0]\n",
    "    R[0,1:]=Q[:,0].reshape(1,Q.shape[0]).dot(A[:,1:]/np.dot(Q[:,0],Q[:,0]))\n",
    "    R[0,0]=np.linalg.norm(Q[:,0],ord=2)\n",
    "    for k in np.arange(1,R.shape[0]-1):\n",
    "        Q[:,k]=A[:,k]-Q[:,:k].dot(R[0:k,k])\n",
    "        R[k,(k+1):]=Q[:,k].reshape(1,Q.shape[0]).dot(A[:,(k+1):]/np.dot(Q[:,k],Q[:,k]))\n",
    "        R[k,k]=np.linalg.norm(Q[:,k],ord=2)\n",
    "    Q[:,R.shape[0]-1]=A[:,R.shape[0]-1]-Q[:,:(R.shape[0]-1)].dot(R[0:(R.shape[0]-1),(R.shape[0]-1)])\n",
    "    Q=Q/np.linalg.norm(Q,ord=2,axis=0)\n",
    "    # enter your code here\n",
    "    return Q, R"
   ]
  },
  {
   "cell_type": "code",
   "execution_count": 3,
   "metadata": {
    "collapsed": false
   },
   "outputs": [
    {
     "name": "stdout",
     "output_type": "stream",
     "text": [
      "5.7775306963e-12\n"
     ]
    }
   ],
   "source": [
    "B = np.random.uniform(0,10,size=(100,100))\n",
    "(Q_B,R_B)=gram_schmidt(B)\n",
    "print(np.linalg.norm(Q_B.T.dot(Q_B)-np.eye(100),2))"
   ]
  },
  {
   "cell_type": "code",
   "execution_count": 4,
   "metadata": {
    "collapsed": false
   },
   "outputs": [
    {
     "name": "stdout",
     "output_type": "stream",
     "text": [
      "92.0333629998\n"
     ]
    }
   ],
   "source": [
    "(xx,yy)=np.meshgrid(np.arange(1,101),np.arange(1,101))\n",
    "\n",
    "A = 1/(xx+yy-1) \n",
    "\n",
    "(Q_A,R_A)=gram_schmidt(A)\n",
    "print(np.linalg.norm(Q_A.T.dot(Q_A)-np.eye(100),2))"
   ]
  },
  {
   "cell_type": "markdown",
   "metadata": {},
   "source": [
    "Let us plot the norms of columns of $A$."
   ]
  },
  {
   "cell_type": "code",
   "execution_count": 5,
   "metadata": {
    "collapsed": false
   },
   "outputs": [
    {
     "data": {
      "text/plain": [
       "<matplotlib.text.Text at 0x25b3eb63d30>"
      ]
     },
     "execution_count": 5,
     "metadata": {},
     "output_type": "execute_result"
    },
    {
     "data": {
      "image/png": "[encoded data removed]",
      "text/plain": [
       "<matplotlib.figure.Figure at 0x25b3eae27f0>"
      ]
     },
     "metadata": {},
     "output_type": "display_data"
    }
   ],
   "source": [
    "import matplotlib.pyplot as plt\n",
    "%matplotlib inline\n",
    "\n",
    "f, ax = plt.subplots(figsize=(4,4))\n",
    "ax.plot(np.linalg.norm(A,ord=2,axis=0))\n",
    "ax.set_xlabel(\"k\")\n",
    "ax.set_ylabel(r\"$\\Vert v_k \\Vert$\")\n",
    "ax.set_title(\"Norms of columns of A\")"
   ]
  },
  {
   "cell_type": "markdown",
   "metadata": {},
   "source": [
    "We encounter the loss of significance when performing orthogonaliztion. The vector $u_1$ has the order of about $1$, then $u_2$ is also something similar. However, norms of vectors $u_2$ and further are of order at least $10^{-1}$. So the expression $(v_n,u_k)/(u_k,u_k)\\cdot u_k$ is of order approximately $10^{O(n)}$. When performing large iterations there is a loss a significance: latter terms dominate the first ones."
   ]
  },
  {
   "cell_type": "markdown",
   "metadata": {},
   "source": [
    "### 2. Householder QR (10 pts)\n",
    "\n",
    "* Implement Householder QR decomposition as a function ```householder_qr(A)``` which outputs ```Q,R```. Apply it to the matrix $B$ created above. Print out the error.\n",
    "\n",
    "\n",
    "* Apply it to the Hilbert matrix $A$ created in the first part of the problem and print out the error. Consider how stable is Householder compared to Gram-Schmidt. "
   ]
  },
  {
   "cell_type": "code",
   "execution_count": 6,
   "metadata": {
    "collapsed": true
   },
   "outputs": [],
   "source": [
    "# INPUT : rectangular matrix A\n",
    "# OUTPUT: matrices Q - orthogonal and R - upper triangular such that A=QR\n",
    "def householder_qr(A): # 7 pts\n",
    "    # enter your code here\n",
    "    return Q, R"
   ]
  },
  {
   "cell_type": "markdown",
   "metadata": {},
   "source": [
    "# Problem 3 (Low-rank decompositions)\n",
    "\n",
    "## 45 pts\n",
    "\n",
    "## 1. Theoretical tasks (15 pts)\n",
    "\n",
    "* Prove that for any Hermitian matrix, singular values equal to absolute value of eigenvalues. Does this hold for a general matrix? Prove or provide a counterexample.\n",
    "\n",
    "\n",
    "Let $A$ be a square Hermitian matrix, i.e. $A^*=A$. By the famous theorem from linear algebra, the eigenvalues are real, and, moreover, there is an orthogonal basis of eigenvectors, so we could decompose $A=T\\Lambda T^{-1}$, where $T$ is a matrix of eigenvectors, $\\Lambda = \\text{diag}(\\text{Spec}A)$. Since the eigenvalues are real, we could introduce a diagonal matrix of signs $\\text{sgn}(\\Lambda)$ and absolute values $\\vert \\Lambda \\vert$. So $A=T \\vert\\Lambda\\vert \\text{sgn}(\\Lambda) T^{-1}=T \\vert\\Lambda\\vert \\tilde{T}$. The basis is orthogonal, hence $T$ and $\\tilde{T}$ are unitary matrices, $\\vert\\Lambda\\vert$ is a non-negative diagonal matrix, so $T \\vert\\Lambda\\vert \\tilde{T}$ is, by definition, an SVD-decomposition of $A$. \n",
    "\n",
    "* Find analytically a skeleton decomposition of the matrix of size $n\\times m$ with elements $a_{ij} = \\sin i + \\sin j$.\n",
    "\n",
    "Firstly, compute the rank of such matrix. It turns out that after subtraction of the first row from all others we have elements $a'_{ij}=sin(i)-sin(1)$ for $i>1$. Since rank is preserved when performing column operations, subtract the first column from all others. This gives $a_{1j}=sin(j)-sin(1)$ for $j>1$,$a_{11}=2sin(1)$, $a_{i1}=sin(i)-sin(1)$ for $i>1$, and $a_{ij}=0$ for $i>1,j>1$. Thus $rank(A)=2$ and we need to decide on $2$ linearily independent rows and $2$ independent columns of $A$. Obviously we can take rows and columns $2,4$, the corresponding matrix \n",
    "\n",
    "$$\\hat{A}= \\begin{bmatrix}\n",
    "                2sin2 & sin2+sin4\\\\\n",
    "                sin4+sin2 & 2sin4\n",
    "           \\end{bmatrix}$$\n",
    "\n",
    "is non-singular. The matrix $C$ is 2 columns of matrix $A$ corresponding to columns $2,4$, and matrix $R$ are rows $2,4$ of A. So we obtained a skeleton decomposition $A=C\\hat{A}^{-1}R$. \n",
    "\n",
    "\n",
    "\n",
    "* Let $A\\in\\mathbb{C}^{n\\times m}$ be of rank $r$ and let $A = U\\Sigma V^*$ be its SVD. Prove that $\\mathrm{im}(A^*) = \\mathrm{span}\\{v_1,\\dots, v_r\\}$, where $V = [v_1, \\dots, v_n]$.\n",
    "\n",
    "Let w.l.o.g. $m<n$ and $A=U\\Sigma V^*$ be a singular value decomposition. The rank of $A$ is $r$ so we can drop the $n-r$ redundant rows and columns from matrices and obtain $A=U_r\\Sigma_rV_r^*$ where $U_r$ is $n \\times r$, $V_r^*$ is $r \\times m$, and $\\Sigma_r$ is $r \\times r$. Since $\\Sigma_r$ just multiplies columns when we multiply by it from the right, $\\text{im}(A^*)=\\text{im}(V_r \\Sigma_r U_r^*)=\\text{im}(V_r \\Sigma_r U_r^*)$. By definition,\n",
    "\n",
    "$$\\text{im}(V_r)=\\left\\lbrace V_rx \\quad \\vert \\quad x \\in R^r  \\right\\rbrace, $$\n",
    "$$\\text{im}(V_rU_r)=\\left\\lbrace V_rU_r^*z \\quad \\vert \\quad z \\in R^n  \\right\\rbrace  .$$\n",
    "\n",
    "Matrix $U_r^*$ maps $z$ to a $r$-dimensional space. Since $U_r^*$ is unitary, it is full rank, consider $U_r^*z=x$ and get the desired result."
   ]
  },
  {
   "cell_type": "markdown",
   "metadata": {},
   "source": [
    "## 2. Recommender system using SVD (30 pts)\n",
    "\n",
    "In this task you are asked to build a simple movie recommender system based on *collaborative filtering* approach and SVD.\n",
    "Collaborative filtering implies that you build recommendations based on the feedback of other users given in a matrix $\\mathbf{M}$ of users vs. movies. \n",
    "If a user $i$ watched a movie $j$ and rated it, say, as $3$ out of $5$, then the value $3$ is the corresponding matrix entry, i.e. $\\mathbf{M}_{i,j}=3$.\n",
    "If a user did not watch a movie, then we put $0$ as a matrix element, i.e. $\\mathbf{M}=0$. \n",
    "Hence, the matrix is sparse."
   ]
  },
  {
   "cell_type": "markdown",
   "metadata": {},
   "source": [
    "### Task 1. Building the core of recommender (15 pts)\n",
    "\n",
    "Build representation of users and movies in the latent factors space with the help of SVD.\n",
    "\n",
    "* We test the SVD model on a [Movielens 10M](https://grouplens.org/datasets/movielens/) dataset. Download the dataset using python functions provided in the following [Jupyter notebook](movielens10m.ipynb).\n"
   ]
  },
  {
   "cell_type": "code",
   "execution_count": 7,
   "metadata": {
    "collapsed": false
   },
   "outputs": [
    {
     "name": "stdout",
     "output_type": "stream",
     "text": [
      "Loading data into memory...\n",
      "Done.\n"
     ]
    }
   ],
   "source": [
    "import movielens10m #in order not to include the large code here,\n",
    "                    #I just exported the notebook into python\n",
    "    \n",
    "M = movielens10m.get_movielens_data(local_file=\"./ml-10m.zip\") \n",
    "#I downloaded it with this function and then set local_file not to download several times"
   ]
  },
  {
   "cell_type": "markdown",
   "metadata": {},
   "source": [
    "* Is it possible to use ```np.linalg.svd``` function to calculate SVD of the downloaded matrices on your laptop? Provide an estimate.\n"
   ]
  },
  {
   "cell_type": "code",
   "execution_count": 8,
   "metadata": {
    "collapsed": false
   },
   "outputs": [
    {
     "name": "stdout",
     "output_type": "stream",
     "text": [
      "10000054\n"
     ]
    }
   ],
   "source": [
    "(train_set,test_set) = movielens10m.split_data(M)\n",
    "print(M.size)"
   ]
  },
  {
   "cell_type": "markdown",
   "metadata": {},
   "source": [
    "The size of double precision representation is 64bit, or 8byte. So in the worst case (it is not, since the matrix is sparse) we need about $8 \\cdot 10^{7}$ byte, which is approximately $80$Mbyte. We have such amount of memory."
   ]
  },
  {
   "cell_type": "markdown",
   "metadata": {},
   "source": [
    "\n",
    "* Implement function `tr_svd` so that it computes truncated SVD using `scipy.linalg.svds`:\n",
    "    * Be aware that `scipy` returns singular values in ascending order (see the [docs](https://docs.scipy.org/doc/scipy-0.14.0/reference/generated/scipy.sparse.linalg.svds.html)).\n",
    "    * Sort all your svd data in descending (by singular values) order without breaking the result.\n",
    "    \n",
    "\n",
    "* Fix the rank of approximation and compute truncated SVD with `tr_svd` of the training set of the dataset. Plot the obtained singular values. Can you tell from the plot whether the data has a low-rank structure? Give your intuition, why it happens?\n",
    "\n",
    "\n",
    "* Write the function `top_n` which takes user as a row of his/her ratings (including non-rated films, i.e. just a row from the train\\test set), integer number $N$ and returns array of indices which correspond to $N$ highest ratings. Use function `np.argsort()`.\n",
    "\n",
    "\n",
    "* Pick several users at random from the training set. Compare their top-10 films and top-10, suggested by your model ($A_k = U_k \\Sigma_k V_k^T$). Comment on the result. **Note:** you can run all tests in this task with $k=25$."
   ]
  },
  {
   "cell_type": "code",
   "execution_count": 9,
   "metadata": {
    "collapsed": false
   },
   "outputs": [
    {
     "name": "stdout",
     "output_type": "stream",
     "text": [
      "(55903, 10677)\n"
     ]
    }
   ],
   "source": [
    "import scipy as sp\n",
    "\n",
    "# INPUT: A: scipy.sparse.csr_matrix (N_train x N_films), k - integer\n",
    "# OUTPUT: U - np.array (N_train x k), S - np.array (k x k), Vh - np.array (k x N_films)\n",
    "def tr_svd(A, k): # 5 pts\n",
    "    # enter your code here\n",
    "    (U,S,Vh) = sp.sparse.linalg.svds(A,k)\n",
    "    permutationArray = np.argsort(-S)\n",
    "    U=U[:,permutationArray]\n",
    "    Vh=Vh[permutationArray,:]\n",
    "    S=S[permutationArray]\n",
    "    return U, S, Vh\n",
    "\n",
    "# INPUT: user - np.array (N_films,), N - integer \n",
    "# OUTPUT: np.array (N,)\n",
    "def top_n(user, N): # 2 pts\n",
    "    # enter your code here\n",
    "    return np.argsort(-user,axis=0)[:N]\n",
    "\n",
    "print(train_set.shape)"
   ]
  },
  {
   "cell_type": "code",
   "execution_count": 10,
   "metadata": {
    "collapsed": true
   },
   "outputs": [],
   "source": [
    "K=25 #approximation rank\n",
    "(U,S,Vt)=tr_svd(train_set,K)"
   ]
  },
  {
   "cell_type": "code",
   "execution_count": 11,
   "metadata": {
    "collapsed": false
   },
   "outputs": [
    {
     "data": {
      "text/plain": [
       "<matplotlib.text.Text at 0x25b4119a0b8>"
      ]
     },
     "execution_count": 11,
     "metadata": {},
     "output_type": "execute_result"
    },
    {
     "data": {
      "image/png": "[encoded data removed]",
      "text/plain": [
       "<matplotlib.figure.Figure at 0x25b41172ba8>"
      ]
     },
     "metadata": {},
     "output_type": "display_data"
    }
   ],
   "source": [
    "f, ax = plt.subplots(figsize=(5,5))\n",
    "\n",
    "ax.plot(S)\n",
    "ax.set_title(str(K)+\" largest singular values of training data\")\n",
    "ax.set_xlabel(\"k\")\n",
    "ax.set_yscale(\"log\")\n",
    "ax.set_ylabel(r\"$\\sigma_k$\")\n"
   ]
  },
  {
   "cell_type": "code",
   "execution_count": 12,
   "metadata": {
    "collapsed": false,
    "scrolled": true
   },
   "outputs": [
    {
     "name": "stdout",
     "output_type": "stream",
     "text": [
      "(55903, 25)\n",
      "(25,)\n",
      "(25, 10677)\n",
      "[37249 27862 40019 55290 51256  7945 25840 44218  6417  3071]\n",
      "[[0 5 2 ..., 0 0 0]\n",
      " [1 8 0 ..., 1 1 1]\n",
      " [2 3 9 ..., 2 2 2]\n",
      " ..., \n",
      " [7 2 5 ..., 7 7 7]\n",
      " [8 6 6 ..., 8 8 8]\n",
      " [9 9 8 ..., 9 9 9]]\n"
     ]
    }
   ],
   "source": [
    "print(U.shape)\n",
    "print(S.shape)\n",
    "print(Vt.shape)\n",
    "#U=sp.sparse.csr_matrix(U)\n",
    "#Vt=sp.sparse.csr_matrix(Vt)\n",
    "\n",
    "#Ak = (U*S).dot(Vt)\n",
    "index=np.random.randint(train_set.shape[0],size=(10,))\n",
    "print(index)\n",
    "#print(top_n(Ak[index],10))\n",
    "print(top_n(train_set[index,:].toarray(),10))"
   ]
  },
  {
   "cell_type": "markdown",
   "metadata": {},
   "source": [
    "Singluar values are decreased on approximately one order of magnitude. Intuitively we can claim that this is the evidence of data's low dimensionality. This may be due to existence of whole clusters of users, who prefer watching relatively same movies."
   ]
  },
  {
   "cell_type": "markdown",
   "metadata": {},
   "source": [
    "### Task 2. Evaluating performance of the recommender (15 pts)\n",
    "\n",
    "Suppose, we trained our model (obtain $U_k, \\Sigma_k, V^T_k$ from $A_{train}$). Let's evaluate it! For this purpose we have $A_{test}$ (recall the function [```split_data```](movielens10m.ipynb)). And our goal is to obtain vectors of recommendation $r$ for each user (row) in the test set ($A_{test}$). But there is no need to recompute the whole SVD for each user. We have the tool, which is called _folding-in_ for recommender systems.\n",
    "\n",
    "#### Folding-in technique                                                             \n",
    "\n",
    "<img src=\"decomp.png\" width='450'>\n",
    "\n",
    "\n",
    "A new user can be considered as an update to the original matrix (appending new row). Appending a row in the original matrix corresponds to appending a row into the users latent factors matrix $U_k$ in the SVD decomposition. \n",
    "Since we do not want to recompute the SVD, we project the new user on the space of found latent factors $V_k$, which spans the row space of matrix $A_k = U_k \\Sigma_k V^T_k$ (recall the problem from the theoretical tasks).\n",
    "The orthoprojection on this space is $P = V_kV_k^T$ (check that it satisfies definition of orthoprojection, i.e. $P^2=P$, $P^T = P$).\n",
    "\n",
    "Thus, the recommendation vector $r$ for a new user $x$ (considered as a column vector) can be written as\n",
    "\n",
    "$$\n",
    "r = V_kV_k^T x.\n",
    "$$\n",
    "\n",
    "\n",
    "#### Computing the total score\n",
    "You have to iterate over all users in the test set and make the following steps:\n",
    "* obtain vector $x$, which is the same as user row, but the last $N = 3$ rated films should be filled with zeroes. Example:\n",
    "\n",
    "$$\n",
    "user = (0, 0, 1, 3, 5, 2, 0, 2, 2, 1, 0, 5) \\;\\; \\to \\;\\;  x = (0, 0, 1, 3, 5, 2, 0, 2, 2, 0, 0, 0).\n",
    "$$\n",
    "\n",
    "* compute the folding-in prediction $r$:\n",
    "\n",
    "$$\n",
    "r = V_k V_k^T x.\n",
    "$$\n",
    "\n",
    "* Obtain top-3 from $user$ (truth) and top-3 from $r$ (prediction). The number of films appearing _simultaneously_ in both top-3's  should be added to the `total_score`. Write the corresponding function `total_score_folding`, which takes the sparse test matrix $A_{test}$,  $V_k$ from truncated SVD of $A_{train}$ and compute the total score. \n",
    "\n",
    "**Example: **\n",
    "\n",
    "|    $user$    |     $recommendation$    |\n",
    "|:------------:|:----------:|\n",
    "|    (**1**,**2**,3)   |  (10,**2**,**1**)  |\n",
    "| (34, 27, **69**) | (**69**, 5, 9) |\n",
    "|    (7,6,4)   |   (8,9,2)  |\n",
    "\n",
    "```total_score``` = 2 + 1 + 0 = 3."
   ]
  },
  {
   "cell_type": "code",
   "execution_count": 13,
   "metadata": {
    "collapsed": true
   },
   "outputs": [],
   "source": [
    "# INPUT: V - np.array(N_films, k), test_data - scipy.sparse.csr_matrix (N_train x N_films)\n",
    "# OTPUT: total_score - integer\n",
    "def total_score_folding(V, test_data): # 8 pts\n",
    "    # enter you code here\n",
    "    return total_score"
   ]
  },
  {
   "cell_type": "markdown",
   "metadata": {},
   "source": [
    "### Task 3 (bonus) Fine-tuning your model\n",
    "\n",
    "* Try to find the rank that produces the best evaluation score.\n",
    "    * Plot the dependency of evaluation score on the rank of SVD for all your trials in one graph.\n",
    "* Report the best result and the corresponding SVD rank.\n",
    "* Compare your model with the non-personalized recommender which simply recommends top-3 movies with highest average ratings. \n",
    "\n",
    "**Note**, that you don't have to recompute SVD to evaluate your model. You might compute once relatively large ($k =500$) truncated SVD and then just use submatrices of it.\n",
    "\n",
    "**Optionally:**\n",
    "You may want to test your parameters with different data splittings in order to minimize the risk of local effects.\n",
    "You're also free to add modifications to your code for producing better results. Report what modificatons you've done and what effect it had if any."
   ]
  },
  {
   "cell_type": "markdown",
   "metadata": {},
   "source": [
    "# Problem 4 (eigenvalues)\n",
    "\n",
    "## 55 pts\n",
    "\n",
    "### 1. Theoretical tasks (10 pts)\n",
    "\n",
    "* Prove that normal matrix is Hermitian iff its eigenvalues are real. Prove that normal matrix is unitary iff its eigenvalues satisfy $|\\lambda| = 1$. \n",
    "\n",
    "#### 1\n",
    "\n",
    "First let us prove that if $\\lambda \\in \\text{Spec}(A)$, then $(A^*x,x)=\\overline{\\lambda}(x,x)$. The first condition implies $(Ax,x)=(\\lambda x, x)$. Note that $(Ax,x)=(x,A^*x)$, so $\\overline{(A^*x,x)}=\\lambda (x,x)$, therefore, $(A^*x,x)=\\overline{\\lambda}(x,x)$.   \n",
    "\n",
    "Let $A$ be a hermitian matrix (so $A^*=A$), $x$ be its eigenvector with eigenvalue $\\lambda$. Consider the hermitian product $(Ax,x)=\\lambda(x,x)$. However $(Ax,x)=(x,A^*x)=\\overline{\\lambda}(x,x)$. We got $\\lambda=\\overline{\\lambda}$ so it is real.\n",
    "\n",
    "Conversely, let all eigenvalues of normal matrix $A$ are real. It means that for all eigenvectors $x$ with eigenvalue $\\lambda$ holds $(Ax,x)=\\lambda(x,x)$. It turns out that $(Ax,x)=\\overline{(x,Ax)}=\\overline{\\lambda}(x,x)=\\lambda(x,x)=(x,Ax)$. So $(Ax,x)=(x,Ax)$ implies $A=A^*$ by definition of conjugate operator.\n",
    "\n",
    "#### 2\n",
    "\n",
    "Now prove that $A$ is unitary iff $\\vert \\lambda \\vert =1 \\quad \\forall \\lambda \\in \\text{Spec}(A)$.\n",
    "\n",
    "Let $A$ is unitary, then $AA^*=A^*A=I$, thus there is no $\\lambda=0 \\notin \\text{Spec}(A)$. Let $\\lambda \\in \\text{Spec}(A)$, so there exists $x$ such that $Ax=\\lambda x$. Multiply (with a native hermite product) both parts by $Ax$, it gives\n",
    "\n",
    "$$\n",
    "\\begin{split}\n",
    "(Ax,Ax)=\\lambda (x,Ax),\\\\\n",
    "\\lambda^2 = \\frac{(x,x)}{(x,x)},\\\\\n",
    "\\lambda^2 = 1,\\\\\n",
    "\\end{split}\n",
    "$$\n",
    "hence, $\\vert\\lambda\\vert=1$.\n",
    "\n",
    "Conversely, let all $\\lambda \\in \\text{Spec}(A)$ have unit absolute value. Since $A$ is normal, it is diagonalizable, so there exists a basis of eigenvectors and any vector of our space can be represented as a sum of eigenvectors. It is sufficient to prove unitary property for one arbitrary eigenvector $x$. Consider $(Ax,Ax)=\\lambda^2 (x,x)=(A^*Ax,x)=(AA^*x,x)=\\overline{\\lambda}^2(x,x)$, the last follows from the lemma from the first subproblem (see above). So $\\lambda^2 (x,x)= \\overline{\\lambda}^2(x,x)$ implies $\\lambda^2=1$, therefore $(A^*Ax,x)=(x,x)$, $(AA^*x,x)=(x,x)$, for arbitrary $x$, so $AA^*=I$ which means that $A$ is unitary.\n",
    "\n",
    "* The following problem illustrates instability of the Jordan form. Find theoretically the eigenvalues of the perturbed Jordan block:\n",
    "\n",
    "$$\n",
    "    J(\\varepsilon) = \n",
    "    \\begin{bmatrix} \n",
    "     \\lambda & 1 & & & 0 \\\\ \n",
    "     & \\lambda & 1 & & \\\\ \n",
    "     &  & \\ddots & \\ddots & \\\\ \n",
    "     & & & \\lambda & 1 \\\\ \n",
    "     \\varepsilon & & & & \\lambda  \\\\ \n",
    "    \\end{bmatrix}_{n\\times n}\n",
    "$$\n",
    "\n",
    "Comment how eigenvalues of $J(0)$ are perturbed for large $n$."
   ]
  },
  {
   "cell_type": "markdown",
   "metadata": {},
   "source": [
    "### 2. PageRank (30 pts)\n",
    "\n",
    "\n",
    "#### Damping factor importance\n",
    "\n",
    "* Write the function ```pagerank_matrix(G)``` that takes an adjacency matrix $G$ as an input and outputs the corresponding PageRank matrix $A$.\n",
    "\n",
    "* Find PageRank matrix $A$ that corresponds to the following graph: <img src=\"graph.png\" width='250'>\n",
    "What is its largest eigenvalue? What multiplicity does it have?\n",
    "\n",
    "\n",
    "* Implement the power method for a given matrix $A$, an initial guess $x_0$ and a number of iterations ```num_iter```. It should be organized as a function ```power_method(A, x0, num_iter)``` that outputs approximation to eigenvector $x$, eigenvalue $\\lambda$ and history of residuals $\\{\\|Ax_k - \\lambda_k x_k\\|_2\\}$. Make sure that the method conveges to the correct solution on a matrix $\\begin{bmatrix} 2 & -1 \\\\ -1 & 2 \\end{bmatrix}$ which is known to have the largest eigenvalue equal to $3$.\n",
    "\n",
    "\n",
    "* Run the power method for the graph presented above and plot residuals $\\|Ax_k - \\lambda_k x_k\\|_2$ as a function of $k$ for ```num_iter=100``` and random initial guess ```x0```.  Explain the absence of convergence. \n",
    "\n",
    "\n",
    "* Consider the same graph, but with the directed edge that goes from the node 3 to the node 4 being removed. Plot residuals as in the previous task and discuss the convergence. Now, run the power method with ```num_iter=100``` for 10 different initial guesses and print/plot the resulting approximated eigenvectors. Why do they depend on the initial guess?\n",
    "\n",
    "\n",
    "In order to avoid this problem Larry Page and Sergey Brin [proposed](http://ilpubs.stanford.edu:8090/422/1/1999-66.pdf) to use the following regularization technique:\n",
    "\n",
    "$$\n",
    "A_d = dA + \\frac{1-d}{N} \\begin{pmatrix} 1 & \\dots & 1 \\\\ \\vdots & & \\vdots \\\\ 1 & \\dots & 1 \\end{pmatrix},\n",
    "$$\n",
    "\n",
    "where $d$ is a small parameter in $[0,1]$ (typically $d=0.85$), which is called **damping factor**, $A$ is of size $N\\times N$. Now $A_d$ is the matrix with multiplicity of the largest eigenvalue equal to 1. \n",
    "Recall that computing the eigenvector of the PageRank matrix, which corresponds to the largest eigenvalue, has the following interpretation. Consider a person who stays in a random node of a graph (i.e. opens a random web page); at each step s/he follows one of the outcoming edges uniformly at random (i.e. opens one of the links). So the person randomly walks through the graph and the eigenvector we are looking for is exactly his/her stationary distribution — for each node it tells you the probability of visiting this particular node. Therefore, if the person has started from a part of the graph which is not connected with the other part, he will never get there.  In the regularized model, the person at each step follows one of the outcoming links with probability $d$ OR visits a random node from the whole graph with probability $(1-d)$.\n",
    "\n",
    "* Now, run the power method with $A_d$ and plot residuals $\\|A_d x_k - \\lambda_k x_k\\|_2$ as a function of $k$ for $d=0.99$, ```num_iter=100``` and a random initial guess ```x0```.\n",
    "\n",
    "\n",
    "Usually, graphs that arise in various areas are sparse (social, web, road networks, etc.) and, thus, computation of a matrix-vector product for corresponding PageRank matrix $A$ is much cheaper than $\\mathcal{O}(N^2)$. However, if $A_d$ is calculated directly, it becomes dense and, therefore, $\\mathcal{O}(N^2)$ cost grows prohibitively large for  big $N$.\n",
    "\n",
    "\n",
    "* Implement fast matrix-vector product for $A_d$ as a function ```pagerank_matvec(A, d, x)```, which takes a PageRank matrix $A$ (in sparse format, e.g., ```csr_matrix```), damping factor $d$ and a vector $x$ as an input and returns $A_dx$ as an output. Generate a random adjacency matrix of size $10000 \\times 10000$ with only 100 non-zero elements and compare ```pagerank_matvec``` performance with direct evaluation of $A_dx$."
   ]
  },
  {
   "cell_type": "code",
   "execution_count": 14,
   "metadata": {
    "collapsed": true
   },
   "outputs": [],
   "source": [
    "# INPUT:  G - np.ndarray\n",
    "# OUTPUT: A - np.ndarray (of size G.shape)\n",
    "def pagerank_matrix(G): # 5 pts\n",
    "    # enter your code here\n",
    "    return A"
   ]
  },
  {
   "cell_type": "code",
   "execution_count": 15,
   "metadata": {
    "collapsed": true
   },
   "outputs": [],
   "source": [
    "# INPUT:  A - np.ndarray (2D), x0 - np.ndarray (1D), num_iter - integer (positive) \n",
    "# OUTPUT: x - np.ndarray (of size x0), l - float, res - np.ndarray (of size num_iter + 1 [include initial guess])\n",
    "def power_method(A, x0, num_iter): # 5 pts\n",
    "    # enter your code here\n",
    "    return x, l, res"
   ]
  },
  {
   "cell_type": "code",
   "execution_count": 16,
   "metadata": {
    "collapsed": true
   },
   "outputs": [],
   "source": [
    "# INPUT:  A - np.ndarray (2D), d - float (from 0.0 to 1.0), x - np.ndarray (1D, size of A.shape[0/1])\n",
    "# OUTPUT: y - np.ndarray (1D, size of x)\n",
    "def pagerank_matvec(A, d, x): # 2 pts\n",
    "    # enter your code here\n",
    "    return y"
   ]
  },
  {
   "cell_type": "markdown",
   "metadata": {},
   "source": [
    "#### DBLP: computer science bibliography\n",
    "\n",
    "Download the dataset from [here](https://goo.gl/oZVxEa), unzip it and put `dblp_authors.npz`  and `dblp_graph.npz` in the same folder with this notebook. Each value (author name) from `dblp_authors.npz` corresponds to the row/column of the matrix from `dblp_graph.npz`. Value at row `i` and column `j` of the matrix from `dblp_graph.npz` corresponds to the number of times author `i` cited papers of the author `j`. Let us now find the most significant scientists according to PageRank model over DBLP data.\n",
    "\n",
    "* Load the weighted adjacency matrix and the authors list into Python using ```load_dblp(...)``` function. Print its density (fraction of nonzero elements). Find top-10 most cited authors from the weighted adjacency matrix. Now, make all the weights of the adjacency matrix equal to 1 for simplicity (consider only existence of connection between authors, not its weight). Obtain the PageRank matrix $A$ from the adjacency matrix and verify that it is stochastic.\n",
    " \n",
    " \n",
    "* In order to provide ```pagerank_matvec``` to your ```power_method``` (without rewriting it) for fast calculation of $A_dx$, you can create a ```LinearOperator```: \n",
    "```python\n",
    "L = scipy.sparse.linalg.LinearOperator(A.shape, matvec=lambda x, A=A, d=d: pagerank_matvec(A, d, x))\n",
    "```\n",
    "Calling ```L@x``` or ```L.dot(x)``` will result in calculation of ```pagerank_matvec(A, d, x)``` and, thus, you can plug $L$ instead of the matrix $A$ in the ```power_method``` directly. **Note:** though in the previous subtask graph was very small (so you could disparage fast matvec implementation), here it is very large (but sparse), so that direct evaluation of $A_dx$ will require $\\sim 10^{12}$ matrix elements to store - good luck with that (^_<)≡☆\n",
    "\n",
    "\n",
    "* Run the power method starting from the vector of all ones and plot residuals $\\|A_dx_k - \\lambda_k x_k\\|_2$  as a function of $k$ for $d=0.85$.\n",
    "\n",
    "\n",
    "* Print names of the top-10 authors according to PageRank over DBLP when $d=0.85$.\n",
    "\n",
    "\n",
    "* (Bonus) Does it look suspicious? Why? Discuss what could cause such results."
   ]
  },
  {
   "cell_type": "code",
   "execution_count": 17,
   "metadata": {
    "collapsed": false
   },
   "outputs": [
    {
     "ename": "ImportError",
     "evalue": "cannot import name 'load_npz'",
     "output_type": "error",
     "traceback": [
      "\u001b[0;31m---------------------------------------------------------------------------\u001b[0m",
      "\u001b[0;31mImportError\u001b[0m                               Traceback (most recent call last)",
      "\u001b[0;32m<ipython-input-17-81a6b3931ebe>\u001b[0m in \u001b[0;36m<module>\u001b[0;34m()\u001b[0m\n\u001b[0;32m----> 1\u001b[0;31m \u001b[1;32mfrom\u001b[0m \u001b[0mscipy\u001b[0m\u001b[1;33m.\u001b[0m\u001b[0msparse\u001b[0m \u001b[1;32mimport\u001b[0m \u001b[0mload_npz\u001b[0m\u001b[1;33m\u001b[0m\u001b[0m\n\u001b[0m\u001b[1;32m      2\u001b[0m \u001b[1;32mimport\u001b[0m \u001b[0mnumpy\u001b[0m \u001b[1;32mas\u001b[0m \u001b[0mnp\u001b[0m\u001b[1;33m\u001b[0m\u001b[0m\n\u001b[1;32m      3\u001b[0m \u001b[1;32mdef\u001b[0m \u001b[0mload_dblp\u001b[0m\u001b[1;33m(\u001b[0m\u001b[0mpath_auth\u001b[0m\u001b[1;33m,\u001b[0m \u001b[0mpath_graph\u001b[0m\u001b[1;33m)\u001b[0m\u001b[1;33m:\u001b[0m\u001b[1;33m\u001b[0m\u001b[0m\n\u001b[1;32m      4\u001b[0m     \u001b[0mG\u001b[0m \u001b[1;33m=\u001b[0m \u001b[0mload_npz\u001b[0m\u001b[1;33m(\u001b[0m\u001b[0mpath_graph\u001b[0m\u001b[1;33m)\u001b[0m\u001b[1;33m.\u001b[0m\u001b[0mastype\u001b[0m\u001b[1;33m(\u001b[0m\u001b[0mfloat\u001b[0m\u001b[1;33m)\u001b[0m\u001b[1;33m\u001b[0m\u001b[0m\n\u001b[1;32m      5\u001b[0m     \u001b[1;32mwith\u001b[0m \u001b[0mnp\u001b[0m\u001b[1;33m.\u001b[0m\u001b[0mload\u001b[0m\u001b[1;33m(\u001b[0m\u001b[0mpath_auth\u001b[0m\u001b[1;33m)\u001b[0m \u001b[1;32mas\u001b[0m \u001b[0mdata\u001b[0m\u001b[1;33m:\u001b[0m \u001b[0mauthors\u001b[0m \u001b[1;33m=\u001b[0m \u001b[0mdata\u001b[0m\u001b[1;33m[\u001b[0m\u001b[1;34m'authors'\u001b[0m\u001b[1;33m]\u001b[0m\u001b[1;33m\u001b[0m\u001b[0m\n",
      "\u001b[0;31mImportError\u001b[0m: cannot import name 'load_npz'"
     ]
    }
   ],
   "source": [
    "from scipy.sparse import load_npz\n",
    "import numpy as np\n",
    "def load_dblp(path_auth, path_graph):\n",
    "    G = load_npz(path_graph).astype(float)\n",
    "    with np.load(path_auth) as data: authors = data['authors']\n",
    "    return G, authors\n",
    "G, authors = load_dblp('dblp_authors.npz', 'dblp_graph.npz')"
   ]
  },
  {
   "cell_type": "markdown",
   "metadata": {},
   "source": [
    "### 3. QR algorithm (10 pts)\n",
    "\n",
    "* Implement QR-algorithm without shifting. Prototype of the function is given below"
   ]
  },
  {
   "cell_type": "code",
   "execution_count": null,
   "metadata": {
    "collapsed": true
   },
   "outputs": [],
   "source": [
    "# INPUT: \n",
    "# A_init - square matrix, \n",
    "# num_iter - number of iterations for QR algorithm\n",
    "# OUTPUT: \n",
    "# Ak - transformed matrix A_init given by QR algorithm, \n",
    "# convergence - numpy array of shape (num_iter, ), \n",
    "# where we store the maximal number from the Chebyshev norm \n",
    "# of triangular part of the Ak for every iteration\n",
    "def qr_algorithm(A_init, num_iter): # 3 pts\n",
    "    # enter your code here\n",
    "    return Ak, convergence"
   ]
  },
  {
   "cell_type": "markdown",
   "metadata": {},
   "source": [
    "#### Symmetric case\n",
    "\n",
    "- Create **symmetric** tridiagonal $11 \\times 11$ matrix with elements $-1, 2, -1$ on sub-, main- and upper diagonal respectively without using loops. \n",
    "- Run $300$ iterations of the QR algorithm for this matrix. \n",
    "- Plot the output matrix with function ```plt.spy(Ak, precision=1e-7)```.\n",
    "- Plot convergence of QR-algorithm.\n",
    "\n",
    "<img src=https://pbs.twimg.com/media/Bq6t17OIMAALkiA.jpg width=30%/>\n",
    "*Photo comment*: professor Gilbert Strang (MIT) \"These are 121 cupcakes with my favorite -1, 2, -1 matrix. It was the day before Thanksgiving and two days before my birthday. A happy surprise.\" "
   ]
  },
  {
   "cell_type": "markdown",
   "metadata": {},
   "source": [
    "#### Nonsymmetric case\n",
    "\n",
    "- Create **nonsymmetric** tridiagonal $11 \\times 11$ matrix with elements $5, 3, -2$ on sub-, main- and upper diagonal respectively without using loops. \n",
    "- Run $200$ iterations of the QR algorithm for this matrix. \n",
    "- Plot the result matrix with function ```plt.spy(Ak, precision=1e-7)```. Is this matrix lower triangular? How does this correspond to the claim about convergence of the QR algorithm?"
   ]
  },
  {
   "cell_type": "code",
   "execution_count": null,
   "metadata": {
    "collapsed": true
   },
   "outputs": [],
   "source": []
  }
 ],
 "metadata": {
  "anaconda-cloud": {},
  "kernelspec": {
   "display_name": "Python [conda root]",
   "language": "python",
   "name": "conda-root-py"
  },
  "language_info": {
   "codemirror_mode": {
    "name": "ipython",
    "version": 3
   },
   "file_extension": ".py",
   "mimetype": "text/x-python",
   "name": "python",
   "nbconvert_exporter": "python",
   "pygments_lexer": "ipython3",
   "version": "3.5.2"
  }
 },
 "nbformat": 4,
 "nbformat_minor": 2
}
